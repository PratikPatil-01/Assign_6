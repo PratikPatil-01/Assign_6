{
 "cells": [
  {
   "cell_type": "markdown",
   "id": "93deabb1-4468-4bba-8595-65ae57bf9254",
   "metadata": {},
   "source": [
    "1) \n",
    "\n",
    "a)Multithreading is a threading technique in Python programming to run multiple threads concurrently by rapidly switching between threads with a CPU help (called context switching).\n",
    "\n",
    "b)Python multithreading enables efficient utilization of the resources as the threads share the data space and memory. Multithreading in Python allows the concurrent and parallel occurrence of various tasks. \n",
    "\n",
    "c)To use multithreading, we need to import the threading module in Python Program. A start() method is used to initiate the activity of a thread."
   ]
  },
  {
   "cell_type": "markdown",
   "id": "40bfff8e-1dcc-4bc3-b8c5-e9fb44350579",
   "metadata": {},
   "source": []
  },
  {
   "cell_type": "markdown",
   "id": "66bf4773-73e3-45d2-aa1a-c32e0e958558",
   "metadata": {},
   "source": [
    "2) \n",
    "\n",
    "Threads allows a program to operate more efficiently by doing multiple things at the same time. Threads can be used to perform complicated tasks in the background without interrupting the main program.\n",
    "\n",
    "The threading module exposes all the methods of the thread module and provides some additional methods:\n",
    " a) threading.activeCount() − Returns the number of thread objects that are active.\n",
    " \n",
    " b) threading.currentThread() − Returns the number of thread objects in the caller's thread control.\n",
    " \n",
    " c) threading.enumerate() − Returns a list of all thread objects that are currently active."
   ]
  },
  {
   "cell_type": "markdown",
   "id": "74827278-6b34-45d3-8a26-98da18a46a5c",
   "metadata": {},
   "source": []
  },
  {
   "cell_type": "markdown",
   "id": "7dfd34ca-b3c8-4b10-a015-edc483572afb",
   "metadata": {},
   "source": [
    "3) \n",
    "\n",
    "a) run() - The \".run()\" method executes any target function belonging to a given thread object that is now active. It normally executes in the background after the \".start()\" method is invoked.\n",
    "\n",
    "b) start() - A start() method is used to initiate the activity of a thread.\n",
    "\n",
    "c) join() - The join() method of the Thread class to wait for the thread to complete in the main thread.\n",
    "\n",
    "d) isalive() - It is used to check if a thread is alive or not. Alive refers to a thread that has begun but not been terminated yet."
   ]
  },
  {
   "cell_type": "code",
   "execution_count": null,
   "id": "c8347dcd-a97f-433a-9a46-b1fc8eab8c29",
   "metadata": {},
   "outputs": [],
   "source": []
  },
  {
   "cell_type": "markdown",
   "id": "b98bfdc4-7edf-4f34-83a2-30fe08bb80e6",
   "metadata": {},
   "source": [
    "4) \n",
    "You can create two threads in Python using the threading module. Here's a Python program that creates two threads, where one thread prints the list of squares and the other thread prints the list of cubes"
   ]
  },
  {
   "cell_type": "code",
   "execution_count": 2,
   "id": "0e243e0d-33d9-49cc-80a2-7b5d0ac9ad25",
   "metadata": {},
   "outputs": [
    {
     "name": "stdout",
     "output_type": "stream",
     "text": [
      "List of squares: [1, 4, 9, 16, 25, 36, 49, 64, 81, 100]\n",
      "List of cubes: [1, 8, 27, 64, 125, 216, 343, 512, 729, 1000]\n",
      "Main thread exiting\n"
     ]
    }
   ],
   "source": [
    "import threading\n",
    "\n",
    "def print_squares():\n",
    "    # Function to print the list of squares\n",
    "    squares = [x ** 2 for x in range(1, 11)]\n",
    "    print(\"List of squares:\", squares)\n",
    "\n",
    "def print_cubes():\n",
    "    # Function to print the list of cubes\n",
    "    cubes = [x ** 3 for x in range(1, 11)]\n",
    "    print(\"List of cubes:\", cubes)\n",
    "\n",
    "# Create thread objects\n",
    "thread1 = threading.Thread(target=print_squares)\n",
    "thread2 = threading.Thread(target=print_cubes)\n",
    "\n",
    "# Start the threads\n",
    "thread1.start()\n",
    "thread2.start()\n",
    "\n",
    "# Wait for the threads to finish\n",
    "thread1.join()\n",
    "thread2.join()\n",
    "\n",
    "print(\"Main thread exiting\")"
   ]
  },
  {
   "cell_type": "markdown",
   "id": "dcca9495-7f1e-480d-930f-fd285a40bc29",
   "metadata": {},
   "source": []
  },
  {
   "cell_type": "markdown",
   "id": "ca4d6c68-2071-4d0f-a783-64a4e21432ee",
   "metadata": {},
   "source": [
    "5) \n",
    "\n",
    "ADVANTAGES: This model provides more concurrency than the many-to-one model. It also allows another thread to run when a thread makes a blocking system call. It supports multiple threads to execute in parallel on microprocessors.\n",
    "\n",
    "DISADVANTAGES: Disadvantage of this model is that creating user thread requires the corresponding Kernel thread."
   ]
  },
  {
   "cell_type": "markdown",
   "id": "b9e85783-fab5-40bb-a1bd-7aaa1647b313",
   "metadata": {},
   "source": [
    "ADVANTAGES:\n",
    "    This model provides more concurrency than the many-to-one model. It also allows another thread to run when a thread makes a blocking system call. It supports multiple threads to execute in parallel on microprocessors.\n",
    "DISADVANTAGES:\n",
    "    Disadvantage of this model is that creating user thread requires the corresponding Kernel thread."
   ]
  },
  {
   "cell_type": "code",
   "execution_count": null,
   "id": "ee5c58fe-ead3-4f49-9bed-9240c0e673cc",
   "metadata": {},
   "outputs": [],
   "source": []
  },
  {
   "cell_type": "markdown",
   "id": "4f8448d7-c80d-4e52-93f2-6fad7636cf74",
   "metadata": {},
   "source": [
    "6) \n",
    "\n",
    "a) deadlocks:Two threads hold locks on different resources, each waiting indefinitely for the other to release its lock.\n",
    "\n",
    "b) race condition: Two (or more) threads alter the state of a shared resource concurrently, leaving it in an unpredictable state."
   ]
  }
 ],
 "metadata": {
  "kernelspec": {
   "display_name": "Python 3 (ipykernel)",
   "language": "python",
   "name": "python3"
  },
  "language_info": {
   "codemirror_mode": {
    "name": "ipython",
    "version": 3
   },
   "file_extension": ".py",
   "mimetype": "text/x-python",
   "name": "python",
   "nbconvert_exporter": "python",
   "pygments_lexer": "ipython3",
   "version": "3.10.8"
  }
 },
 "nbformat": 4,
 "nbformat_minor": 5
}
