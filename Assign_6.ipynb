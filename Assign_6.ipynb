{
 "cells": [
  {
   "cell_type": "markdown",
   "id": "93deabb1-4468-4bba-8595-65ae57bf9254",
   "metadata": {},
   "source": [
    "#1"
   ]
  },
  {
   "cell_type": "markdown",
   "id": "40bfff8e-1dcc-4bc3-b8c5-e9fb44350579",
   "metadata": {},
   "source": [
    "a)Multithreading is a threading technique in Python programming to run multiple threads concurrently by rapidly switching between threads with a CPU help (called context switching).\n",
    "b)Python multithreading enables efficient utilization of the resources as the threads share the data space and memory. Multithreading in Python allows the concurrent and parallel occurrence of various tasks. \n",
    "c)To use multithreading, we need to import the threading module in Python Program. A start() method is used to initiate the activity of a thread."
   ]
  },
  {
   "cell_type": "markdown",
   "id": "66bf4773-73e3-45d2-aa1a-c32e0e958558",
   "metadata": {},
   "source": [
    "#2"
   ]
  },
  {
   "cell_type": "markdown",
   "id": "74827278-6b34-45d3-8a26-98da18a46a5c",
   "metadata": {},
   "source": [
    "Threads allows a program to operate more efficiently by doing multiple things at the same time. Threads can be used to perform complicated tasks in the background without interrupting the main program.\n",
    "The threading module exposes all the methods of the thread module and provides some additional methods:\n",
    "threading.activeCount() − Returns the number of thread objects that are active.\n",
    "threading.currentThread() − Returns the number of thread objects in the caller's thread control.\n",
    "threading.enumerate() − Returns a list of all thread objects that are currently active."
   ]
  },
  {
   "cell_type": "markdown",
   "id": "7dfd34ca-b3c8-4b10-a015-edc483572afb",
   "metadata": {},
   "source": [
    "#3"
   ]
  },
  {
   "cell_type": "markdown",
   "id": "dcca9495-7f1e-480d-930f-fd285a40bc29",
   "metadata": {},
   "source": [
    "a) run() - The \".run()\" method executes any target function belonging to a given thread object that is now active. It normally executes in the background after the \".start()\" method is invoked.\n",
    "b) start() - A start() method is used to initiate the activity of a thread.\n",
    "c) join() - The join() method of the Thread class to wait for the thread to complete in the main thread.\n",
    "d) isalive() - It is used to check if a thread is alive or not. Alive refers to a thread that has begun but not been terminated yet."
   ]
  },
  {
   "cell_type": "markdown",
   "id": "ca4d6c68-2071-4d0f-a783-64a4e21432ee",
   "metadata": {},
   "source": [
    "#5"
   ]
  },
  {
   "cell_type": "markdown",
   "id": "b9e85783-fab5-40bb-a1bd-7aaa1647b313",
   "metadata": {},
   "source": [
    "ADVANTAGES:\n",
    "    This model provides more concurrency than the many-to-one model. It also allows another thread to run when a thread makes a blocking system call. It supports multiple threads to execute in parallel on microprocessors.\n",
    "DISADVANTAGES:\n",
    "    Disadvantage of this model is that creating user thread requires the corresponding Kernel thread."
   ]
  },
  {
   "cell_type": "markdown",
   "id": "4f8448d7-c80d-4e52-93f2-6fad7636cf74",
   "metadata": {},
   "source": [
    "#6"
   ]
  },
  {
   "cell_type": "markdown",
   "id": "c2207142-a190-4e34-8864-d2b15bbf6ff0",
   "metadata": {},
   "source": [
    "a)deadlocks:Two threads hold locks on different resources, each waiting indefinitely for the other to release its lock.\n",
    "b) race condition: Two (or more) threads alter the state of a shared resource concurrently, leaving it in an unpredictable state."
   ]
  },
  {
   "cell_type": "code",
   "execution_count": null,
   "id": "418de74f-9068-4830-881e-cd850a7ec273",
   "metadata": {},
   "outputs": [],
   "source": []
  },
  {
   "cell_type": "code",
   "execution_count": null,
   "id": "44d0ab2a-dc80-4edf-85f2-70a2aa59e506",
   "metadata": {},
   "outputs": [],
   "source": []
  },
  {
   "cell_type": "code",
   "execution_count": null,
   "id": "72d3adf6-d82c-4afd-8f72-28645c9ba94e",
   "metadata": {},
   "outputs": [],
   "source": []
  },
  {
   "cell_type": "code",
   "execution_count": null,
   "id": "30efaae4-9090-4912-9112-e575d8a2d382",
   "metadata": {},
   "outputs": [],
   "source": []
  }
 ],
 "metadata": {
  "kernelspec": {
   "display_name": "Python 3 (ipykernel)",
   "language": "python",
   "name": "python3"
  },
  "language_info": {
   "codemirror_mode": {
    "name": "ipython",
    "version": 3
   },
   "file_extension": ".py",
   "mimetype": "text/x-python",
   "name": "python",
   "nbconvert_exporter": "python",
   "pygments_lexer": "ipython3",
   "version": "3.10.8"
  }
 },
 "nbformat": 4,
 "nbformat_minor": 5
}
